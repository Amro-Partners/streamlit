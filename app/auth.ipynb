{
 "cells": [
  {
   "cell_type": "code",
   "execution_count": 1,
   "metadata": {},
   "outputs": [],
   "source": [
    "import streamlit_authenticator as stauth\n",
    "import json\n",
    "import toml\n",
    "import streamlit as st"
   ]
  },
  {
   "cell_type": "code",
   "execution_count": 7,
   "metadata": {},
   "outputs": [],
   "source": [
    "# dict containing user info\n",
    "auth_dict = {'credentials': {'usernames': {'nanda': {'email': 'nanda@amropartners.com',\n",
    "    'name': 'Nanda Shah',\n",
    "    'password': '$2b$12$nF58ovnRnaqhIf0QkrerPuh4AH0QckeA8Mtsn3k21b22QVJDJ4Npe'},\n",
    "   'deepak': {'email': 'deepak@amropartners.com',\n",
    "    'name': 'Deepak Antony',\n",
    "    'password': '$2b$12$i3nXtNM8XsKmXlWAYhvRn.FdEAoXzyLHYU1ocoOVS7OVMVx5xmjHK'},\n",
    "   'ami': {'email': 'ami@amropartners.com',\n",
    "    'name': 'Ami Kotecha',\n",
    "    'password': '$2b$12$sDiUZmVra64sqFNajzW0BOBDqK0sbnLR7z3gc227keMjbc3MIjhpe'}}},\n",
    " 'cookie': {'expiry_days': 30,\n",
    "  'key': 'amropartners_streamlit',\n",
    "  'name': 'auth_cookie'},\n",
    " 'preauthorized': {'emails': ['deepak@amropartners.com']}}"
   ]
  },
  {
   "cell_type": "code",
   "execution_count": 3,
   "metadata": {},
   "outputs": [
    {
     "data": {
      "text/plain": [
       "['$2b$12$mDNp/FPSfOE/PPWqu8pdi.ydTHkG2WciTDTW5CpzTcuCDe.Jvpowe',\n",
       " '$2b$12$xdMnadDaXOS6BYQURjKBJOmXl6JPorF621r7Bt147DmZNY34wkXp.',\n",
       " '$2b$12$HnFfq8DNa4sSzpFvxAybBOgbYNQleW1IMQKznPH0K8LGmp0Vps2HC']"
      ]
     },
     "execution_count": 3,
     "metadata": {},
     "output_type": "execute_result"
    }
   ],
   "source": [
    "hashed_passwords = stauth.Hasher(['Ami23@amro', 'Nanda23@amro','Deepak23@amro']).generate()\n",
    "hashed_passwords"
   ]
  },
  {
   "cell_type": "code",
   "execution_count": 4,
   "metadata": {},
   "outputs": [
    {
     "data": {
      "text/plain": [
       "'[cookie]\\nexpiry_days = 30\\nkey = \"amropartners_streamlit\"\\nname = \"auth_cookie\"\\n\\n[preauthorized]\\nemails = [ \"deepak@amropartners.com\",]\\n\\n[credentials.usernames.nanda]\\nemail = \"nanda@amropartners.com\"\\nname = \"Nanda Shah\"\\npassword = \"$2b$12$nF58ovnRnaqhIf0QkrerPuh4AH0QckeA8Mtsn3k21b22QVJDJ4Npe\"\\n\\n[credentials.usernames.deepak]\\nemail = \"deepak@amropartners.com\"\\nname = \"Deepak Antony\"\\npassword = \"$2b$12$i3nXtNM8XsKmXlWAYhvRn.FdEAoXzyLHYU1ocoOVS7OVMVx5xmjHK\"\\n\\n[credentials.usernames.ami]\\nemail = \"ami@amropartners.com\"\\nname = \"Ami Kotecha\"\\npassword = \"$2b$12$sDiUZmVra64sqFNajzW0BOBDqK0sbnLR7z3gc227keMjbc3MIjhpe\"\\n'"
      ]
     },
     "execution_count": 4,
     "metadata": {},
     "output_type": "execute_result"
    }
   ],
   "source": [
    "auth_config = toml.dumps(auth_dict)\n",
    "auth_config"
   ]
  },
  {
   "cell_type": "code",
   "execution_count": 6,
   "metadata": {},
   "outputs": [
    {
     "data": {
      "text/plain": [
       "{'credentials': {'usernames': {'nanda': {'email': 'nanda@amropartners.com',\n",
       "    'name': 'Nanda Shah',\n",
       "    'password': '$2b$12$nF58ovnRnaqhIf0QkrerPuh4AH0QckeA8Mtsn3k21b22QVJDJ4Npe'},\n",
       "   'deepak': {'email': 'deepak@amropartners.com',\n",
       "    'name': 'Deepak Antony',\n",
       "    'password': '$2b$12$i3nXtNM8XsKmXlWAYhvRn.FdEAoXzyLHYU1ocoOVS7OVMVx5xmjHK'},\n",
       "   'ami': {'email': 'ami@amropartners.com',\n",
       "    'name': 'Ami Kotecha',\n",
       "    'password': '$2b$12$sDiUZmVra64sqFNajzW0BOBDqK0sbnLR7z3gc227keMjbc3MIjhpe'}}},\n",
       " 'cookie': {'expiry_days': 30,\n",
       "  'key': 'amropartners_streamlit',\n",
       "  'name': 'auth_cookie'},\n",
       " 'preauthorized': {'emails': ['deepak@amropartners.com']}}"
      ]
     },
     "execution_count": 6,
     "metadata": {},
     "output_type": "execute_result"
    }
   ],
   "source": [
    "config = json.loads(st.secrets[\"auth_config\"])\n",
    "config"
   ]
  }
 ],
 "metadata": {
  "kernelspec": {
   "display_name": "streamlit",
   "language": "python",
   "name": "python3"
  },
  "language_info": {
   "codemirror_mode": {
    "name": "ipython",
    "version": 3
   },
   "file_extension": ".py",
   "mimetype": "text/x-python",
   "name": "python",
   "nbconvert_exporter": "python",
   "pygments_lexer": "ipython3",
   "version": "3.9.17"
  },
  "orig_nbformat": 4
 },
 "nbformat": 4,
 "nbformat_minor": 2
}
